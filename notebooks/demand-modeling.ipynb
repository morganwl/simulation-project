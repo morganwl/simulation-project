{
 "cells": [
  {
   "cell_type": "code",
   "execution_count": 1,
   "id": "691b66a2",
   "metadata": {},
   "outputs": [],
   "source": [
    "import matplotlib.pyplot as plt\n",
    "import numpy as np\n",
    "from scipy.special import beta, gamma\n",
    "from math import exp"
   ]
  },
  {
   "cell_type": "code",
   "execution_count": 31,
   "id": "00ecde65",
   "metadata": {},
   "outputs": [],
   "source": [
    "x = np.linspace(0,24,num=1000,endpoint=False)"
   ]
  },
  {
   "cell_type": "code",
   "execution_count": 3,
   "id": "0e627490",
   "metadata": {},
   "outputs": [],
   "source": [
    "def bdense(x, a, b):\n",
    "    return x**(a-1)*(1-x)**(b-1)/beta(a,b)"
   ]
  },
  {
   "cell_type": "code",
   "execution_count": 4,
   "id": "1dcb7ea7",
   "metadata": {},
   "outputs": [],
   "source": [
    "def gdense(x, k, th):\n",
    "    c = 1 / (gamma(k) * th**k)\n",
    "    return c * x**(k-1) * np.exp(-x/th)"
   ]
  },
  {
   "cell_type": "code",
   "execution_count": 154,
   "id": "dc1c752e",
   "metadata": {
    "scrolled": false
   },
   "outputs": [
    {
     "name": "stdout",
     "output_type": "stream",
     "text": [
      "9 0.7777777777777778\n",
      "(0.16690494228012226, 6.216)\n",
      "(0.16604939764635127, 18.144000000000002)\n",
      "['0.000', '0.612', '43.326', '306.971', '847.673', '1396.785', '1660.355', '1575.421', '1267.516', '899.073', '577.400', '342.168', '189.744', '99.515', '49.772', '23.895', '11.070', '4.971', '2.171', '0.925', '0.385', '0.157', '0.063', '0.025']\n"
     ]
    },
    {
     "data": {
      "text/plain": [
       "[<matplotlib.lines.Line2D at 0x7fac7fd5e7d0>]"
      ]
     },
     "execution_count": 154,
     "metadata": {},
     "output_type": "execute_result"
    },
    {
     "data": {
      "image/png": "[encoded data removed]",
      "text/plain": [
       "<Figure size 432x288 with 1 Axes>"
      ]
     },
     "metadata": {
      "needs_background": "light"
     },
     "output_type": "display_data"
    }
   ],
   "source": [
    "shape = 9\n",
    "scale = 7/shape\n",
    "print(shape, scale)\n",
    "b1 = lambda x: .93 * gdense(x, shape, scale)\n",
    "a = 5\n",
    "b = a - (13/24*a)\n",
    "b2 = lambda x: .07 * bdense(x/24, a, b)\n",
    "print(max([(b1(a), a) for a in x]))\n",
    "print(max([(b2(a), a) for a in x]))\n",
    "print([f'{10000 * b1(a):.3f}' for a in range(24)])\n",
    "plt.plot(x, b1(x) + b2(x))"
   ]
  },
  {
   "cell_type": "code",
   "execution_count": null,
   "id": "9b9e93d1",
   "metadata": {},
   "outputs": [],
   "source": []
  }
 ],
 "metadata": {
  "kernelspec": {
   "display_name": "Python 3 (ipykernel)",
   "language": "python",
   "name": "python3"
  },
  "language_info": {
   "codemirror_mode": {
    "name": "ipython",
    "version": 3
   },
   "file_extension": ".py",
   "mimetype": "text/x-python",
   "name": "python",
   "nbconvert_exporter": "python",
   "pygments_lexer": "ipython3",
   "version": "3.10.12"
  }
 },
 "nbformat": 4,
 "nbformat_minor": 5
}
